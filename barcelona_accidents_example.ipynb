{
 "cells": [
  {
   "cell_type": "code",
   "execution_count": 1,
   "metadata": {},
   "outputs": [],
   "source": [
    "import os\n",
    "import pandas as pd\n",
    "import matplotlib.pyplot as plt\n",
    "import seaborn as sns\n",
    "import numpy as np\n",
    "%matplotlib inline"
   ]
  },
  {
   "cell_type": "code",
   "execution_count": 2,
   "metadata": {},
   "outputs": [],
   "source": [
    "df = pd.read_csv('data/2017_accidents_gu_bcn.csv')"
   ]
  },
  {
   "cell_type": "code",
   "execution_count": 3,
   "metadata": {},
   "outputs": [
    {
     "data": {
      "text/plain": [
       "(10339, 27)"
      ]
     },
     "execution_count": 3,
     "metadata": {},
     "output_type": "execute_result"
    }
   ],
   "source": [
    "df.shape"
   ]
  },
  {
   "cell_type": "code",
   "execution_count": 4,
   "metadata": {},
   "outputs": [],
   "source": [
    "df.replace(['Desconegut', -1], [np.nan, np.nan], inplace = True)"
   ]
  },
  {
   "cell_type": "code",
   "execution_count": 5,
   "metadata": {},
   "outputs": [
    {
     "data": {
      "text/plain": [
       "Index(['File number', 'District code', 'District name', 'Neighborhood code',\n",
       "       'Neighborhood name', 'Street code', 'Street name', 'Postcode number',\n",
       "       'Description week day', 'Week day', 'Type of day description',\n",
       "       'NK Year', 'Month of year', 'Name month', 'Day of month', 'Hour of day',\n",
       "       'Description turn', 'Description pedestrian cause', 'Number of deaths',\n",
       "       'Number of minor injuries', 'Number of serious injuries',\n",
       "       'Number of victims', 'Number of vehicles involved',\n",
       "       'UTM Coordinate (X)', 'UTM Coordinate (Y)', 'Longitude', 'Latitude'],\n",
       "      dtype='object')"
      ]
     },
     "execution_count": 5,
     "metadata": {},
     "output_type": "execute_result"
    }
   ],
   "source": [
    "df.columns = ['File number', 'District code', 'District name', 'Neighborhood code',\n",
    "              'Neighborhood name', 'Street code', 'Street name', 'Postcode number',\n",
    "              'Description week day', 'Week day', 'Type of day description',\n",
    "              'NK Year', 'Month of year', 'Name month', 'Day of month', 'Hour of day',\n",
    "              'Description turn', 'Description pedestrian cause', 'Number of deaths',\n",
    "              'Number of minor injuries', 'Number of serious injuries',\n",
    "              'Number of victims', 'Number of vehicles involved', \n",
    "              'UTM Coordinate (X)', 'UTM Coordinate (Y)', 'Longitude', 'Latitude']\n",
    "\n",
    "df.columns"
   ]
  },
  {
   "cell_type": "code",
   "execution_count": 6,
   "metadata": {},
   "outputs": [],
   "source": [
    "df['Street name'] = df['Street name'].str.capitalize()"
   ]
  },
  {
   "cell_type": "code",
   "execution_count": 7,
   "metadata": {},
   "outputs": [],
   "source": [
    "#Convert days of the week into integers so we can plot them\n",
    "df['Day num'] = df['Description week day'].map({'Divendres': 5, 'Dimarts': 2, 'Dijous': 4, \n",
    "                                                'Dimecres': 3, 'Dilluns': 1, 'Dissabte': 6, 'Diumenge': 7})\n",
    "df['Day num'] = df['Day num'].astype(int)"
   ]
  },
  {
   "cell_type": "code",
   "execution_count": 8,
   "metadata": {},
   "outputs": [
    {
     "name": "stdout",
     "output_type": "stream",
     "text": [
      "5    1761\n",
      "2    1691\n",
      "4    1677\n",
      "3    1650\n",
      "1    1510\n",
      "6    1155\n",
      "7     895\n",
      "Name: Day num, dtype: int64\n"
     ]
    },
    {
     "data": {
      "image/png": "[encoded data removed]",
      "text/plain": [
       "<Figure size 864x288 with 1 Axes>"
      ]
     },
     "metadata": {
      "needs_background": "light"
     },
     "output_type": "display_data"
    }
   ],
   "source": [
    "print(df['Day num'].value_counts())\n",
    "byday = df.groupby('Day num').count()\n",
    "(byday['File number']/52).plot(kind = 'bar', \n",
    "                               figsize = (12, 4))\n",
    "plt.title('Average number of accidents by day of week', \n",
    "          size = 14)\n",
    "plt.xlabel('Day of week')\n",
    "plt.xticks(range(0,7), ['Monday', 'Tuesday', 'Wednesday', 'Thursday', 'Friday', 'Saturday', 'Sunday'], \n",
    "           rotation = 45)\n",
    "plt.show()"
   ]
  },
  {
   "cell_type": "code",
   "execution_count": 10,
   "metadata": {},
   "outputs": [],
   "source": [
    "grouped_by_day = df.groupby('Day num').agg({'Number of serious injuries': 'sum',\n",
    "                                            'File number': 'count'})\\\n",
    "                                        .rename(columns = {'Number of serious injuries': 'num_inj',\n",
    "                                                           'File number': 'count_accidents'})"
   ]
  },
  {
   "cell_type": "code",
   "execution_count": 11,
   "metadata": {},
   "outputs": [],
   "source": [
    "grouped_by_day['percent_serious'] = grouped_by_day.num_inj /grouped_by_day.count_accidents"
   ]
  },
  {
   "cell_type": "code",
   "execution_count": 13,
   "metadata": {},
   "outputs": [
    {
     "data": {
      "text/html": [
       "<div>\n",
       "<style scoped>\n",
       "    .dataframe tbody tr th:only-of-type {\n",
       "        vertical-align: middle;\n",
       "    }\n",
       "\n",
       "    .dataframe tbody tr th {\n",
       "        vertical-align: top;\n",
       "    }\n",
       "\n",
       "    .dataframe thead th {\n",
       "        text-align: right;\n",
       "    }\n",
       "</style>\n",
       "<table border=\"1\" class=\"dataframe\">\n",
       "  <thead>\n",
       "    <tr style=\"text-align: right;\">\n",
       "      <th></th>\n",
       "      <th>num_inj</th>\n",
       "      <th>count_accidents</th>\n",
       "      <th>percent_serious</th>\n",
       "      <th>weekly</th>\n",
       "    </tr>\n",
       "    <tr>\n",
       "      <th>Day num</th>\n",
       "      <th></th>\n",
       "      <th></th>\n",
       "      <th></th>\n",
       "      <th></th>\n",
       "    </tr>\n",
       "  </thead>\n",
       "  <tbody>\n",
       "    <tr>\n",
       "      <th>1</th>\n",
       "      <td>27.0</td>\n",
       "      <td>1510</td>\n",
       "      <td>0.017881</td>\n",
       "      <td>29.0</td>\n",
       "    </tr>\n",
       "    <tr>\n",
       "      <th>2</th>\n",
       "      <td>34.0</td>\n",
       "      <td>1691</td>\n",
       "      <td>0.020106</td>\n",
       "      <td>33.0</td>\n",
       "    </tr>\n",
       "    <tr>\n",
       "      <th>3</th>\n",
       "      <td>31.0</td>\n",
       "      <td>1650</td>\n",
       "      <td>0.018788</td>\n",
       "      <td>32.0</td>\n",
       "    </tr>\n",
       "    <tr>\n",
       "      <th>4</th>\n",
       "      <td>33.0</td>\n",
       "      <td>1677</td>\n",
       "      <td>0.019678</td>\n",
       "      <td>32.0</td>\n",
       "    </tr>\n",
       "    <tr>\n",
       "      <th>5</th>\n",
       "      <td>44.0</td>\n",
       "      <td>1761</td>\n",
       "      <td>0.024986</td>\n",
       "      <td>34.0</td>\n",
       "    </tr>\n",
       "    <tr>\n",
       "      <th>6</th>\n",
       "      <td>33.0</td>\n",
       "      <td>1155</td>\n",
       "      <td>0.028571</td>\n",
       "      <td>22.0</td>\n",
       "    </tr>\n",
       "    <tr>\n",
       "      <th>7</th>\n",
       "      <td>39.0</td>\n",
       "      <td>895</td>\n",
       "      <td>0.043575</td>\n",
       "      <td>17.0</td>\n",
       "    </tr>\n",
       "  </tbody>\n",
       "</table>\n",
       "</div>"
      ],
      "text/plain": [
       "         num_inj  count_accidents  percent_serious  weekly\n",
       "Day num                                                   \n",
       "1           27.0             1510         0.017881    29.0\n",
       "2           34.0             1691         0.020106    33.0\n",
       "3           31.0             1650         0.018788    32.0\n",
       "4           33.0             1677         0.019678    32.0\n",
       "5           44.0             1761         0.024986    34.0\n",
       "6           33.0             1155         0.028571    22.0\n",
       "7           39.0              895         0.043575    17.0"
      ]
     },
     "execution_count": 13,
     "metadata": {},
     "output_type": "execute_result"
    }
   ],
   "source": [
    "grouped_by_day['weekly'] = round(grouped_by_day['count_accidents']/52)\n",
    "grouped_by_day[['num_inj', 'count_accidents', 'percent_serious', 'weekly']]"
   ]
  },
  {
   "cell_type": "code",
   "execution_count": 25,
   "metadata": {},
   "outputs": [
    {
     "data": {
      "text/html": [
       "<div>\n",
       "<style scoped>\n",
       "    .dataframe tbody tr th:only-of-type {\n",
       "        vertical-align: middle;\n",
       "    }\n",
       "\n",
       "    .dataframe tbody tr th {\n",
       "        vertical-align: top;\n",
       "    }\n",
       "\n",
       "    .dataframe thead th {\n",
       "        text-align: right;\n",
       "    }\n",
       "</style>\n",
       "<table border=\"1\" class=\"dataframe\">\n",
       "  <thead>\n",
       "    <tr style=\"text-align: right;\">\n",
       "      <th></th>\n",
       "      <th>percent_serious</th>\n",
       "      <th>weekly</th>\n",
       "    </tr>\n",
       "  </thead>\n",
       "  <tbody>\n",
       "    <tr>\n",
       "      <th>Monday</th>\n",
       "      <td>0.017881</td>\n",
       "      <td>29.0</td>\n",
       "    </tr>\n",
       "    <tr>\n",
       "      <th>Tuesday</th>\n",
       "      <td>0.020106</td>\n",
       "      <td>33.0</td>\n",
       "    </tr>\n",
       "    <tr>\n",
       "      <th>Wednesday</th>\n",
       "      <td>0.018788</td>\n",
       "      <td>32.0</td>\n",
       "    </tr>\n",
       "    <tr>\n",
       "      <th>Thursday</th>\n",
       "      <td>0.019678</td>\n",
       "      <td>32.0</td>\n",
       "    </tr>\n",
       "    <tr>\n",
       "      <th>Friday</th>\n",
       "      <td>0.024986</td>\n",
       "      <td>34.0</td>\n",
       "    </tr>\n",
       "    <tr>\n",
       "      <th>Saturday</th>\n",
       "      <td>0.028571</td>\n",
       "      <td>22.0</td>\n",
       "    </tr>\n",
       "    <tr>\n",
       "      <th>Sunday</th>\n",
       "      <td>0.043575</td>\n",
       "      <td>17.0</td>\n",
       "    </tr>\n",
       "  </tbody>\n",
       "</table>\n",
       "</div>"
      ],
      "text/plain": [
       "           percent_serious  weekly\n",
       "Monday            0.017881    29.0\n",
       "Tuesday           0.020106    33.0\n",
       "Wednesday         0.018788    32.0\n",
       "Thursday          0.019678    32.0\n",
       "Friday            0.024986    34.0\n",
       "Saturday          0.028571    22.0\n",
       "Sunday            0.043575    17.0"
      ]
     },
     "execution_count": 25,
     "metadata": {},
     "output_type": "execute_result"
    }
   ],
   "source": [
    "grouped_by_day.index = ['Monday', 'Tuesday', 'Wednesday', 'Thursday', 'Friday', 'Saturday', 'Sunday']\n",
    "grouped_by_day[['percent_serious', 'weekly']]"
   ]
  },
  {
   "cell_type": "code",
   "execution_count": 49,
   "metadata": {},
   "outputs": [
    {
     "data": {
      "text/plain": [
       "Text(0.0, 1.0, 'Sundays have the fewest accidents but more of them are serious')"
      ]
     },
     "execution_count": 49,
     "metadata": {},
     "output_type": "execute_result"
    },
    {
     "data": {
      "image/png": "[encoded data removed]",
      "text/plain": [
       "<Figure size 1008x576 with 1 Axes>"
      ]
     },
     "metadata": {
      "needs_background": "light"
     },
     "output_type": "display_data"
    }
   ],
   "source": [
    "plt.figure(figsize =(14,8))\n",
    "plt.bar(x = grouped_by_day.index, \n",
    "        height = grouped_by_day.weekly,\n",
    "        color = '#45B08c',\n",
    "        alpha = 0.8)\n",
    "title = 'Sundays have the fewest accidents\\\n",
    " but more of them are serious'\n",
    "plt.title(title, \n",
    "          loc = 'left', \n",
    "          size = 20)"
   ]
  },
  {
   "cell_type": "code",
   "execution_count": 61,
   "metadata": {},
   "outputs": [
    {
     "data": {
      "text/plain": [
       "Monday       0.017881\n",
       "Tuesday      0.020106\n",
       "Wednesday    0.018788\n",
       "Thursday     0.019678\n",
       "Friday       0.024986\n",
       "Saturday     0.028571\n",
       "Sunday       0.043575\n",
       "Name: percent_serious, dtype: float64"
      ]
     },
     "execution_count": 61,
     "metadata": {},
     "output_type": "execute_result"
    }
   ],
   "source": []
  },
  {
   "cell_type": "code",
   "execution_count": 74,
   "metadata": {},
   "outputs": [
    {
     "data": {
      "image/png": "[encoded data removed]",
      "text/plain": [
       "<Figure size 1008x576 with 2 Axes>"
      ]
     },
     "metadata": {
      "needs_background": "light"
     },
     "output_type": "display_data"
    }
   ],
   "source": [
    "fig, ax1 = plt.subplots(figsize = (14,8))\n",
    "\n",
    "ax2 = ax1.twinx()\n",
    "ax1.bar(x = grouped_by_day.index, \n",
    "        height = grouped_by_day.weekly.values,\n",
    "        color = '#45B08c', \n",
    "        alpha = 0.8)\n",
    "ax2.plot(grouped_by_day.percent_serious, \n",
    "         color = '#ff5252', \n",
    "         lw = 2)\n",
    "title = 'Sundays have the fewest accidents\\\n",
    " but more of them are serious'\n",
    "plt.title(title, \n",
    "          loc = 'left', \n",
    "          size = 20)\n",
    "plt.show()"
   ]
  },
  {
   "cell_type": "code",
   "execution_count": 49,
   "metadata": {},
   "outputs": [
    {
     "data": {
      "text/plain": [
       "Day num\n",
       "1    1.79\n",
       "2    2.01\n",
       "3    1.88\n",
       "4    1.97\n",
       "5    2.50\n",
       "6    2.86\n",
       "7    4.36\n",
       "Name: percent_serious, dtype: float64"
      ]
     },
     "execution_count": 49,
     "metadata": {},
     "output_type": "execute_result"
    }
   ],
   "source": [
    "round(grouped_by_day['percent_serious']*100, 2)"
   ]
  },
  {
   "cell_type": "code",
   "execution_count": 50,
   "metadata": {},
   "outputs": [
    {
     "data": {
      "text/html": [
       "<div>\n",
       "<style scoped>\n",
       "    .dataframe tbody tr th:only-of-type {\n",
       "        vertical-align: middle;\n",
       "    }\n",
       "\n",
       "    .dataframe tbody tr th {\n",
       "        vertical-align: top;\n",
       "    }\n",
       "\n",
       "    .dataframe thead th {\n",
       "        text-align: right;\n",
       "    }\n",
       "</style>\n",
       "<table border=\"1\" class=\"dataframe\">\n",
       "  <thead>\n",
       "    <tr style=\"text-align: right;\">\n",
       "      <th></th>\n",
       "      <th>File number</th>\n",
       "      <th>District code</th>\n",
       "      <th>District name</th>\n",
       "      <th>Neighborhood code</th>\n",
       "      <th>Neighborhood name</th>\n",
       "      <th>Street code</th>\n",
       "      <th>Street name</th>\n",
       "      <th>Postcode number</th>\n",
       "      <th>Description week day</th>\n",
       "      <th>Week day</th>\n",
       "      <th>...</th>\n",
       "      <th>Number of deaths</th>\n",
       "      <th>Number of minor injuries</th>\n",
       "      <th>Number of serious injuries</th>\n",
       "      <th>Number of victims</th>\n",
       "      <th>Number of vehicles involved</th>\n",
       "      <th>UTM Coordinate (X)</th>\n",
       "      <th>UTM Coordinate (Y)</th>\n",
       "      <th>Longitude</th>\n",
       "      <th>Latitude</th>\n",
       "      <th>Day num</th>\n",
       "    </tr>\n",
       "  </thead>\n",
       "  <tbody>\n",
       "    <tr>\n",
       "      <th>0</th>\n",
       "      <td>2017S008429</td>\n",
       "      <td>NaN</td>\n",
       "      <td>NaN</td>\n",
       "      <td>NaN</td>\n",
       "      <td>NaN</td>\n",
       "      <td>NaN</td>\n",
       "      <td>Número 27                                     ...</td>\n",
       "      <td>NaN</td>\n",
       "      <td>Divendres</td>\n",
       "      <td>Dv</td>\n",
       "      <td>...</td>\n",
       "      <td>0.0</td>\n",
       "      <td>2.0</td>\n",
       "      <td>0.0</td>\n",
       "      <td>2.0</td>\n",
       "      <td>2.0</td>\n",
       "      <td>426936.65</td>\n",
       "      <td>4577079.15</td>\n",
       "      <td>2.125624</td>\n",
       "      <td>41.340045</td>\n",
       "      <td>5</td>\n",
       "    </tr>\n",
       "    <tr>\n",
       "      <th>1</th>\n",
       "      <td>2017S007316</td>\n",
       "      <td>NaN</td>\n",
       "      <td>NaN</td>\n",
       "      <td>NaN</td>\n",
       "      <td>NaN</td>\n",
       "      <td>NaN</td>\n",
       "      <td>Número 3 zona franca / número 50 zona franca  ...</td>\n",
       "      <td>NaN</td>\n",
       "      <td>Divendres</td>\n",
       "      <td>Dv</td>\n",
       "      <td>...</td>\n",
       "      <td>0.0</td>\n",
       "      <td>2.0</td>\n",
       "      <td>0.0</td>\n",
       "      <td>2.0</td>\n",
       "      <td>2.0</td>\n",
       "      <td>426503.22</td>\n",
       "      <td>4577014.83</td>\n",
       "      <td>2.120452</td>\n",
       "      <td>41.339426</td>\n",
       "      <td>5</td>\n",
       "    </tr>\n",
       "    <tr>\n",
       "      <th>2</th>\n",
       "      <td>2017S010210</td>\n",
       "      <td>NaN</td>\n",
       "      <td>NaN</td>\n",
       "      <td>NaN</td>\n",
       "      <td>NaN</td>\n",
       "      <td>NaN</td>\n",
       "      <td>Litoral (besòs)                               ...</td>\n",
       "      <td>K128</td>\n",
       "      <td>Divendres</td>\n",
       "      <td>Dv</td>\n",
       "      <td>...</td>\n",
       "      <td>0.0</td>\n",
       "      <td>5.0</td>\n",
       "      <td>0.0</td>\n",
       "      <td>5.0</td>\n",
       "      <td>2.0</td>\n",
       "      <td>430450.5</td>\n",
       "      <td>4579358.49</td>\n",
       "      <td>2.167356</td>\n",
       "      <td>41.360885</td>\n",
       "      <td>5</td>\n",
       "    </tr>\n",
       "    <tr>\n",
       "      <th>3</th>\n",
       "      <td>2017S006364</td>\n",
       "      <td>NaN</td>\n",
       "      <td>NaN</td>\n",
       "      <td>NaN</td>\n",
       "      <td>NaN</td>\n",
       "      <td>NaN</td>\n",
       "      <td>Número 3 zona franca                          ...</td>\n",
       "      <td>77-111</td>\n",
       "      <td>Divendres</td>\n",
       "      <td>Dv</td>\n",
       "      <td>...</td>\n",
       "      <td>0.0</td>\n",
       "      <td>1.0</td>\n",
       "      <td>0.0</td>\n",
       "      <td>1.0</td>\n",
       "      <td>2.0</td>\n",
       "      <td>426842.33</td>\n",
       "      <td>4576816.19</td>\n",
       "      <td>2.124529</td>\n",
       "      <td>41.337668</td>\n",
       "      <td>5</td>\n",
       "    </tr>\n",
       "    <tr>\n",
       "      <th>4</th>\n",
       "      <td>2017S004615</td>\n",
       "      <td>10.0</td>\n",
       "      <td>Sant Martí</td>\n",
       "      <td>64.0</td>\n",
       "      <td>el Camp de l'Arpa del Clot</td>\n",
       "      <td>226400.0</td>\n",
       "      <td>Las navas de tolosa                           ...</td>\n",
       "      <td>0323 0325</td>\n",
       "      <td>Dijous</td>\n",
       "      <td>Dj</td>\n",
       "      <td>...</td>\n",
       "      <td>0.0</td>\n",
       "      <td>1.0</td>\n",
       "      <td>0.0</td>\n",
       "      <td>1.0</td>\n",
       "      <td>3.0</td>\n",
       "      <td>432006,95</td>\n",
       "      <td>4585503,52</td>\n",
       "      <td>2.185272</td>\n",
       "      <td>41.416365</td>\n",
       "      <td>4</td>\n",
       "    </tr>\n",
       "  </tbody>\n",
       "</table>\n",
       "<p>5 rows × 28 columns</p>\n",
       "</div>"
      ],
      "text/plain": [
       "       File number  District code District name  Neighborhood code  \\\n",
       "0  2017S008429                NaN           NaN                NaN   \n",
       "1  2017S007316                NaN           NaN                NaN   \n",
       "2  2017S010210                NaN           NaN                NaN   \n",
       "3  2017S006364                NaN           NaN                NaN   \n",
       "4  2017S004615               10.0    Sant Martí               64.0   \n",
       "\n",
       "            Neighborhood name  Street code  \\\n",
       "0                         NaN          NaN   \n",
       "1                         NaN          NaN   \n",
       "2                         NaN          NaN   \n",
       "3                         NaN          NaN   \n",
       "4  el Camp de l'Arpa del Clot     226400.0   \n",
       "\n",
       "                                         Street name Postcode number  \\\n",
       "0  Número 27                                     ...             NaN   \n",
       "1  Número 3 zona franca / número 50 zona franca  ...             NaN   \n",
       "2  Litoral (besòs)                               ...      K128         \n",
       "3  Número 3 zona franca                          ...      77-111       \n",
       "4  Las navas de tolosa                           ...       0323 0325   \n",
       "\n",
       "  Description week day Week day  ... Number of deaths  \\\n",
       "0            Divendres       Dv  ...              0.0   \n",
       "1            Divendres       Dv  ...              0.0   \n",
       "2            Divendres       Dv  ...              0.0   \n",
       "3            Divendres       Dv  ...              0.0   \n",
       "4               Dijous       Dj  ...              0.0   \n",
       "\n",
       "   Number of minor injuries  Number of serious injuries Number of victims  \\\n",
       "0                       2.0                         0.0               2.0   \n",
       "1                       2.0                         0.0               2.0   \n",
       "2                       5.0                         0.0               5.0   \n",
       "3                       1.0                         0.0               1.0   \n",
       "4                       1.0                         0.0               1.0   \n",
       "\n",
       "   Number of vehicles involved  UTM Coordinate (X) UTM Coordinate (Y)  \\\n",
       "0                          2.0          426936.65          4577079.15   \n",
       "1                          2.0          426503.22          4577014.83   \n",
       "2                          2.0          430450.5           4579358.49   \n",
       "3                          2.0          426842.33          4576816.19   \n",
       "4                          3.0           432006,95         4585503,52   \n",
       "\n",
       "  Longitude   Latitude  Day num  \n",
       "0  2.125624  41.340045        5  \n",
       "1  2.120452  41.339426        5  \n",
       "2  2.167356  41.360885        5  \n",
       "3  2.124529  41.337668        5  \n",
       "4  2.185272  41.416365        4  \n",
       "\n",
       "[5 rows x 28 columns]"
      ]
     },
     "execution_count": 50,
     "metadata": {},
     "output_type": "execute_result"
    }
   ],
   "source": [
    "df.head()"
   ]
  },
  {
   "cell_type": "code",
   "execution_count": null,
   "metadata": {},
   "outputs": [],
   "source": []
  }
 ],
 "metadata": {
  "kernelspec": {
   "display_name": "Python 3",
   "language": "python",
   "name": "python3"
  },
  "language_info": {
   "codemirror_mode": {
    "name": "ipython",
    "version": 3
   },
   "file_extension": ".py",
   "mimetype": "text/x-python",
   "name": "python",
   "nbconvert_exporter": "python",
   "pygments_lexer": "ipython3",
   "version": "3.6.7"
  }
 },
 "nbformat": 4,
 "nbformat_minor": 2
}
